{
  "nbformat": 4,
  "nbformat_minor": 0,
  "metadata": {
    "colab": {
      "name": "Copy of Denver_Home_Prices.ipynb",
      "version": "0.3.2",
      "provenance": [],
      "collapsed_sections": []
    },
    "kernelspec": {
      "name": "python3",
      "display_name": "Python 3"
    }
  },
  "cells": [
    {
      "cell_type": "code",
      "metadata": {
        "id": "f20uPXZtqkR1",
        "colab_type": "code",
        "colab": {}
      },
      "source": [
        ""
      ],
      "execution_count": 0,
      "outputs": []
    },
    {
      "cell_type": "code",
      "metadata": {
        "id": "Q8EgMsLsrPl1",
        "colab_type": "code",
        "colab": {}
      },
      "source": [
        "#@title Example form fields\n",
        "#@markdown Forms support many types of fields.\n",
        "\n",
        "square_feet = 2100 #@param {type:\"slider\", min:0, max:10000, step:100}\n",
        "bedrooms = 3 #@param {type:\"slider\", min:0, max:8, step:1}\n",
        "age_of_dwelling = 30 #@param {type:\"number\"}\n",
        "full_bathrooms = 1 #@param {type:\"slider\", min:0, max:6, step:1}\n",
        "land_size_sq_ft = 5000 #@param {type:\"number\"}\n",
        "#@markdown ---\n",
        "condo = 0 #@param {type:\"slider\", min:0, max:1, step:1}\n",
        "row_house = 0 #@param {type:\"slider\", min:0, max:1, step:1}\n",
        "single_family = 1 #@param {type:\"slider\", min:0, max:1, step:1}\n",
        "neighborhood = \"SLOANS LAKE\" #@param [\"ACADEMY\", \"STAPLETON\", \"SLOANS LAKE\", \"UNIVERSITY PARK\", \"HIGHLAND\"]\n"
      ],
      "execution_count": 0,
      "outputs": []
    },
    {
      "cell_type": "code",
      "metadata": {
        "id": "rtN2RIjuFszc",
        "colab_type": "code",
        "outputId": "cd00b3f7-bbd0-4691-ea72-ef61c99eb5e2",
        "colab": {
          "base_uri": "https://localhost:8080/",
          "height": 34
        }
      },
      "source": [
        "PROJECT_ID = \"denver-housing-project\" #@param {type:\"string\"}\n",
        "! gcloud config set project $PROJECT_ID"
      ],
      "execution_count": 0,
      "outputs": [
        {
          "output_type": "stream",
          "text": [
            "Updated property [core/project].\n"
          ],
          "name": "stdout"
        }
      ]
    },
    {
      "cell_type": "code",
      "metadata": {
        "id": "lsAm1EX7F9bn",
        "colab_type": "code",
        "colab": {}
      },
      "source": [
        "import sys\n",
        "\n",
        "# If you are running this notebook in Colab, run this cell and follow the\n",
        "# instructions to authenticate your GCP account. This provides access to your\n",
        "# Cloud Storage bucket and lets you submit training jobs and prediction\n",
        "# requests.\n",
        "\n",
        "if 'google.colab' in sys.modules:\n",
        "  from google.colab import auth as google_auth\n",
        "  google_auth.authenticate_user()\n",
        "\n",
        "# If you are running this notebook locally, replace the string below with the\n",
        "# path to your service account key and run this cell to authenticate your GCP\n",
        "# account.\n",
        "else:\n",
        "  %env GOOGLE_APPLICATION_CREDENTIALS '<path-to-your-service-account-key.json>'"
      ],
      "execution_count": 0,
      "outputs": []
    },
    {
      "cell_type": "code",
      "metadata": {
        "id": "DJS7LQEBGFtS",
        "colab_type": "code",
        "colab": {}
      },
      "source": [
        "BUCKET_NAME = \"du-data-viz-bucket\" #@param {type:\"string\"}\n",
        "REGION = \"us-central1\" #@param {type:\"string\"}"
      ],
      "execution_count": 0,
      "outputs": []
    },
    {
      "cell_type": "code",
      "metadata": {
        "id": "87Pi8MWrGFic",
        "colab_type": "code",
        "outputId": "6dbd6d2a-2685-4a10-9317-b8d9e771c9b8",
        "colab": {
          "base_uri": "https://localhost:8080/",
          "height": 50
        }
      },
      "source": [
        "! gsutil mb -l $REGION gs://$BUCKET_NAME"
      ],
      "execution_count": 0,
      "outputs": [
        {
          "output_type": "stream",
          "text": [
            "Creating gs://du-data-viz-bucket/...\n",
            "ServiceException: 409 Bucket du-data-viz-bucket already exists.\n"
          ],
          "name": "stdout"
        }
      ]
    },
    {
      "cell_type": "code",
      "metadata": {
        "id": "s6F9YonJGka1",
        "colab_type": "code",
        "outputId": "35e277e3-02c7-4145-f82d-3d8fb1bd377e",
        "colab": {
          "base_uri": "https://localhost:8080/",
          "height": 34
        }
      },
      "source": [
        "! gsutil ls -al gs://$BUCKET_NAME"
      ],
      "execution_count": 0,
      "outputs": [
        {
          "output_type": "stream",
          "text": [
            "                                 gs://du-data-viz-bucket/model/\n"
          ],
          "name": "stdout"
        }
      ]
    },
    {
      "cell_type": "code",
      "metadata": {
        "id": "5J8I8RyYQfq2",
        "colab_type": "code",
        "outputId": "9bd35a97-ce87-4f81-c13c-0cb2ec60c826",
        "colab": {
          "base_uri": "https://localhost:8080/",
          "height": 34
        }
      },
      "source": [
        "print(BUCKET_NAME)"
      ],
      "execution_count": 0,
      "outputs": [
        {
          "output_type": "stream",
          "text": [
            "du-data-viz-bucket\n"
          ],
          "name": "stdout"
        }
      ]
    },
    {
      "cell_type": "code",
      "metadata": {
        "id": "KqZ1Gx0WGkW8",
        "colab_type": "code",
        "colab": {}
      },
      "source": [
        "! pip install numpy>=1.16.0 scikit-learn==0.20.2"
      ],
      "execution_count": 0,
      "outputs": []
    },
    {
      "cell_type": "code",
      "metadata": {
        "id": "mSqe5yfYGkTy",
        "colab_type": "code",
        "outputId": "4ff00927-a533-474a-ad95-bd4764e7ec4f",
        "colab": {
          "base_uri": "https://localhost:8080/",
          "height": 34
        }
      },
      "source": [
        "%%writefile predictor.py\n",
        "import os\n",
        "import pickle\n",
        "\n",
        "import numpy as np\n",
        "from sklearn.datasets import load_iris\n",
        "from sklearn.externals import joblib\n",
        "\n",
        "class DenverHousingPredictor(object):\n",
        "  def __init__(self, model_by_neighborhood):\n",
        "    self._model_by_neighborhood = model_by_neighborhood\n",
        "\n",
        "  def predict(self, instances, **kwargs):\n",
        "    \n",
        "    # Args:\n",
        "    #     instances: A list of prediction input instances.\n",
        "    \n",
        "    #     \n",
        "    inputs = np.array(instances)\n",
        "    #     inputs = pd.DataFrame(instances, columns=['AREA_ABG','BED_RMS','AGE','FULL_B','LAND_SQFT','CONDO','ROW_HOUSE','SINGLE_FAMILY'])\n",
        "    neighborhood =  kwargs['neighborhood']\n",
        "    \n",
        "    outputs = self._model_by_neighborhood[neighborhood].predict(inputs)\n",
        "    \n",
        "    # array should have this width\n",
        "    # outputs = self._model.predict(preprocessed_inputs)\n",
        "    return outputs.tolist()\n",
        "\n",
        "  @classmethod\n",
        "  def from_path(cls, model_dir):\n",
        "    model_by_neighborhood = {}\n",
        "    for neighborhood in [\n",
        "     'ARAPAHOE SQUARE',\n",
        "      'ATHMAR PARK',\n",
        "      'AURARIA',\n",
        "      'BALLPARK',\n",
        "      'BARNUM',\n",
        "      'BEAR VALLEY',\n",
        "      'BELMONT HTS',\n",
        "      'BERKELEY',\n",
        "      'BREAKERS',\n",
        "      'CAPITOL HILL',\n",
        "      'CBD',\n",
        "      'CHAFFEE PARK',\n",
        "      'CHERMONT',\n",
        "      'CHERRY CREEK',\n",
        "      'CITY PARK WEST',\n",
        "      'CLAYTON',\n",
        "      'COLE',\n",
        "      'COLFAX',\n",
        "      'COMMONS',\n",
        "      'COUNTRY CLUB',\n",
        "      'CREEKVW_SUNSET',\n",
        "      'CRESTMOOR',\n",
        "      'CURTIS PARK',\n",
        "      'DENVER TECH',\n",
        "      'FIVE POINTS',\n",
        "      'FORT LOGAN',\n",
        "      'GLENBROOK',\n",
        "      'GLOBEVILLE',\n",
        "      'GOLDSMITH',\n",
        "      'GREEN VALLEY',\n",
        "      'HALE',\n",
        "      'HAMPDEN',\n",
        "      'HARVEY PARK',\n",
        "      'HIGHLAND',\n",
        "      'HILLTOP',\n",
        "      'HOLLY HILLS',\n",
        "      'HOLLY RIDGE',\n",
        "      'HUTCHINSON HILLS',\n",
        "      'INSPIRATION PT',\n",
        "      'JEFFERSON PARK',\n",
        "      'LODO',\n",
        "      'LOWRY',\n",
        "      'MAR LEE',\n",
        "      'MARSTON',\n",
        "      'MONTBELLO',\n",
        "      'NORTHFIELD',\n",
        "      'OVERLAND',\n",
        "      'PARK FOREST',\n",
        "      'PARK HILL',\n",
        "      'PARK VISTA',\n",
        "      'PARKFIELD',\n",
        "      'PINE RIDGE',\n",
        "      'PINE VALLEY',\n",
        "      'PINECREST VILLAGE',\n",
        "      'PINEHURST',\n",
        "      'PLATTE PARK',\n",
        "      'RANGE VIEW',\n",
        "      'REGIS',\n",
        "      'RIVER NORTH',\n",
        "      'RUBY HILL _ GODSMAN PARK',\n",
        "      'SEVEN SPRINGS',\n",
        "      'SKYLAND',\n",
        "      'SLOANS LAKE',\n",
        "      'SOUTHMOOR PARK',\n",
        "      'SPEER',\n",
        "      'STAPLETON',\n",
        "      'SUNNYSIDE',\n",
        "      'SWANSEA',\n",
        "      'UNIVERSITY',\n",
        "      'UNIVERSITY ',\n",
        "      'UNIVERSITY HILLS',\n",
        "      'UNIVERSITY PARK',\n",
        "      'VALVERDE',\n",
        "      'VILLA PARK',\n",
        "      'VILLAS CHRY HL',\n",
        "      'VIRGINIA VILLAGE',\n",
        "      'WASH PARK',\n",
        "      'WELLSHIRE',\n",
        "      'WESTBRIDGE',\n",
        "      'WESTWOOD',\n",
        "      'WHITTIER',\n",
        "      'WILLOW POINT E',\n",
        "      'WINDSOR',\n",
        "      'WOODSTREAM',\n",
        "      'ZUNI PARK']:\n",
        "\n",
        "      model_path = os.path.join(model_dir, neighborhood + '.joblib')\n",
        "      model_by_neighborhood[neighborhood] = joblib.load(model_path)\n",
        "\n",
        "    return cls(model_by_neighborhood)   "
      ],
      "execution_count": 0,
      "outputs": [
        {
          "output_type": "stream",
          "text": [
            "Overwriting predictor.py\n"
          ],
          "name": "stdout"
        }
      ]
    },
    {
      "cell_type": "code",
      "metadata": {
        "id": "E9faVlaPGkKR",
        "colab_type": "code",
        "colab": {}
      },
      "source": [
        "MODEL_NAME = 'DenverHousingPredictor2'\n",
        "VERSION_NAME = 'v1'"
      ],
      "execution_count": 0,
      "outputs": []
    },
    {
      "cell_type": "code",
      "metadata": {
        "id": "sjRTwwixH8EK",
        "colab_type": "code",
        "outputId": "e0304154-0580-43b2-b1cc-4230a4e81e68",
        "colab": {
          "base_uri": "https://localhost:8080/",
          "height": 34
        }
      },
      "source": [
        "%%writefile setup.py\n",
        "from setuptools import setup\n",
        "\n",
        "MODEL_NAME = 'DenverHousingPredictor2'\n",
        "\n",
        "setup(\n",
        "    name=MODEL_NAME,\n",
        "    version='0.1',\n",
        "    scripts=['predictor.py'])"
      ],
      "execution_count": 0,
      "outputs": [
        {
          "output_type": "stream",
          "text": [
            "Overwriting setup.py\n"
          ],
          "name": "stdout"
        }
      ]
    },
    {
      "cell_type": "code",
      "metadata": {
        "id": "AetYLO__H8BL",
        "colab_type": "code",
        "outputId": "bb9509de-b08f-4fae-fd66-61e64cf00f7b",
        "colab": {
          "base_uri": "https://localhost:8080/",
          "height": 487
        }
      },
      "source": [
        "! python setup.py sdist --formats=gztar"
      ],
      "execution_count": 0,
      "outputs": [
        {
          "output_type": "stream",
          "text": [
            "running sdist\n",
            "running egg_info\n",
            "creating DenverHousingPredictor2.egg-info\n",
            "writing DenverHousingPredictor2.egg-info/PKG-INFO\n",
            "writing dependency_links to DenverHousingPredictor2.egg-info/dependency_links.txt\n",
            "writing top-level names to DenverHousingPredictor2.egg-info/top_level.txt\n",
            "writing manifest file 'DenverHousingPredictor2.egg-info/SOURCES.txt'\n",
            "reading manifest file 'DenverHousingPredictor2.egg-info/SOURCES.txt'\n",
            "writing manifest file 'DenverHousingPredictor2.egg-info/SOURCES.txt'\n",
            "warning: sdist: standard file not found: should have one of README, README.rst, README.txt, README.md\n",
            "\n",
            "running check\n",
            "warning: check: missing required meta-data: url\n",
            "\n",
            "warning: check: missing meta-data: either (author and author_email) or (maintainer and maintainer_email) must be supplied\n",
            "\n",
            "creating DenverHousingPredictor2-0.1\n",
            "creating DenverHousingPredictor2-0.1/DenverHousingPredictor2.egg-info\n",
            "copying files to DenverHousingPredictor2-0.1...\n",
            "copying predictor.py -> DenverHousingPredictor2-0.1\n",
            "copying setup.py -> DenverHousingPredictor2-0.1\n",
            "copying DenverHousingPredictor2.egg-info/PKG-INFO -> DenverHousingPredictor2-0.1/DenverHousingPredictor2.egg-info\n",
            "copying DenverHousingPredictor2.egg-info/SOURCES.txt -> DenverHousingPredictor2-0.1/DenverHousingPredictor2.egg-info\n",
            "copying DenverHousingPredictor2.egg-info/dependency_links.txt -> DenverHousingPredictor2-0.1/DenverHousingPredictor2.egg-info\n",
            "copying DenverHousingPredictor2.egg-info/top_level.txt -> DenverHousingPredictor2-0.1/DenverHousingPredictor2.egg-info\n",
            "Writing DenverHousingPredictor2-0.1/setup.cfg\n",
            "Creating tar archive\n",
            "removing 'DenverHousingPredictor2-0.1' (and everything under it)\n"
          ],
          "name": "stdout"
        }
      ]
    },
    {
      "cell_type": "code",
      "metadata": {
        "id": "NraoluvBH7--",
        "colab_type": "code",
        "outputId": "5b308d46-ebc8-48cf-9fcc-ccb5db8ca297",
        "colab": {
          "base_uri": "https://localhost:8080/",
          "height": 67
        }
      },
      "source": [
        "! gsutil cp ./dist/$MODEL_NAME-0.1.tar.gz gs://$BUCKET_NAME/$MODEL_NAME/$MODEL_NAME-0.1.tar.gz"
      ],
      "execution_count": 0,
      "outputs": [
        {
          "output_type": "stream",
          "text": [
            "Copying file://./dist/DenverHousingPredictor2-0.1.tar.gz [Content-Type=application/x-tar]...\n",
            "/ [0 files][    0.0 B/  1.7 KiB]                                                \r/ [1 files][  1.7 KiB/  1.7 KiB]                                                \r\n",
            "Operation completed over 1 objects/1.7 KiB.                                      \n"
          ],
          "name": "stdout"
        }
      ]
    },
    {
      "cell_type": "code",
      "metadata": {
        "id": "sY12XyNbH77q",
        "colab_type": "code",
        "outputId": "c3383c1c-42c7-49fe-9e13-0a4e546e4ae6",
        "colab": {
          "base_uri": "https://localhost:8080/",
          "height": 84
        }
      },
      "source": [
        "! gcloud ai-platform versions delete $VERSION_NAME --model $MODEL_NAME"
      ],
      "execution_count": 0,
      "outputs": [
        {
          "output_type": "stream",
          "text": [
            "This will delete version [v1]...\n",
            "\n",
            "Do you want to continue (Y/n)?  Y\n",
            "\n"
          ],
          "name": "stdout"
        }
      ]
    },
    {
      "cell_type": "code",
      "metadata": {
        "id": "AKuMesVZH744",
        "colab_type": "code",
        "outputId": "32ef023a-45d3-4668-f948-fa5e7d9eae55",
        "colab": {
          "base_uri": "https://localhost:8080/",
          "height": 84
        }
      },
      "source": [
        "! gcloud ai-platform models delete $MODEL_NAME"
      ],
      "execution_count": 0,
      "outputs": [
        {
          "output_type": "stream",
          "text": [
            "This will delete model [DenverHousingPredictor]...\n",
            "\n",
            "Do you want to continue (Y/n)?  Y\n",
            "\n"
          ],
          "name": "stdout"
        }
      ]
    },
    {
      "cell_type": "code",
      "metadata": {
        "id": "xEUuqlqiH72Z",
        "colab_type": "code",
        "outputId": "0b273e8b-8bbd-4c18-a3a8-23546c83ccf7",
        "colab": {
          "base_uri": "https://localhost:8080/",
          "height": 34
        }
      },
      "source": [
        "! gcloud ai-platform models create $MODEL_NAME \\\n",
        "  --regions $REGION"
      ],
      "execution_count": 0,
      "outputs": [
        {
          "output_type": "stream",
          "text": [
            "Created ml engine model [projects/denver-housing-project/models/DenverHousingPredictor2].\n"
          ],
          "name": "stdout"
        }
      ]
    },
    {
      "cell_type": "code",
      "metadata": {
        "id": "SQgbgPI9H7zB",
        "colab_type": "code",
        "colab": {}
      },
      "source": [
        "# --quiet automatically installs the beta component if it isn't already installed \n",
        "! gcloud --quiet beta ai-platform versions create $VERSION_NAME \\\n",
        "  --model $MODEL_NAME \\\n",
        "  --runtime-version 1.13 \\\n",
        "  --python-version 3.5 \\\n",
        "  --origin gs://$BUCKET_NAME/model/ \\\n",
        "  --package-uris gs://$BUCKET_NAME/$MODEL_NAME/$MODEL_NAME-0.1.tar.gz \\\n",
        "  --prediction-class predictor.DenverHousingPredictor"
      ],
      "execution_count": 0,
      "outputs": []
    },
    {
      "cell_type": "code",
      "metadata": {
        "id": "ZBI4y_EMH7wI",
        "colab_type": "code",
        "outputId": "4a4f7a10-7e53-47d1-c639-20c60545dbfd",
        "colab": {
          "base_uri": "https://localhost:8080/",
          "height": 185
        }
      },
      "source": [
        "! pip install --upgrade google-api-python-client"
      ],
      "execution_count": 0,
      "outputs": [
        {
          "output_type": "stream",
          "text": [
            "Requirement already up-to-date: google-api-python-client in /usr/local/lib/python3.6/dist-packages (1.7.10)\n",
            "Requirement already satisfied, skipping upgrade: google-auth>=1.4.1 in /usr/local/lib/python3.6/dist-packages (from google-api-python-client) (1.4.2)\n",
            "Requirement already satisfied, skipping upgrade: uritemplate<4dev,>=3.0.0 in /usr/local/lib/python3.6/dist-packages (from google-api-python-client) (3.0.0)\n",
            "Requirement already satisfied, skipping upgrade: httplib2<1dev,>=0.9.2 in /usr/local/lib/python3.6/dist-packages (from google-api-python-client) (0.11.3)\n",
            "Requirement already satisfied, skipping upgrade: six<2dev,>=1.6.1 in /usr/local/lib/python3.6/dist-packages (from google-api-python-client) (1.12.0)\n",
            "Requirement already satisfied, skipping upgrade: google-auth-httplib2>=0.0.3 in /usr/local/lib/python3.6/dist-packages (from google-api-python-client) (0.0.3)\n",
            "Requirement already satisfied, skipping upgrade: rsa>=3.1.4 in /usr/local/lib/python3.6/dist-packages (from google-auth>=1.4.1->google-api-python-client) (4.0)\n",
            "Requirement already satisfied, skipping upgrade: pyasn1-modules>=0.2.1 in /usr/local/lib/python3.6/dist-packages (from google-auth>=1.4.1->google-api-python-client) (0.2.5)\n",
            "Requirement already satisfied, skipping upgrade: cachetools>=2.0.0 in /usr/local/lib/python3.6/dist-packages (from google-auth>=1.4.1->google-api-python-client) (3.1.1)\n",
            "Requirement already satisfied, skipping upgrade: pyasn1>=0.1.3 in /usr/local/lib/python3.6/dist-packages (from rsa>=3.1.4->google-auth>=1.4.1->google-api-python-client) (0.4.5)\n"
          ],
          "name": "stdout"
        }
      ]
    },
    {
      "cell_type": "code",
      "metadata": {
        "id": "OpIr0-yvNQOB",
        "colab_type": "code",
        "outputId": "5649246e-837f-41de-a3fe-d86519606f26",
        "colab": {
          "base_uri": "https://localhost:8080/",
          "height": 34
        }
      },
      "source": [
        "import googleapiclient.discovery\n",
        "\n",
        "\n",
        "instances = [\n",
        "    [square_feet, bedrooms, age_of_dwelling, full_bathrooms, land_size_sq_ft, condo, row_house, single_family]\n",
        "]\n",
        "\n",
        "service = googleapiclient.discovery.build('ml', 'v1')\n",
        "name = 'projects/{}/models/{}/versions/{}'.format(PROJECT_ID, MODEL_NAME, VERSION_NAME)\n",
        "#project=denver-housing-project\n",
        "\n",
        "response = service.projects().predict(\n",
        "    name=name,\n",
        "    body={'instances': instances, 'neighborhood': neighborhood }\n",
        ").execute()\n",
        "\n",
        "if 'error' in response:\n",
        "    raise RuntimeError(response['error'])\n",
        "else:\n",
        "  print(response['predictions'])\n"
      ],
      "execution_count": 0,
      "outputs": [
        {
          "output_type": "stream",
          "text": [
            "[[796471.6294528076]]\n"
          ],
          "name": "stdout"
        }
      ]
    },
    {
      "cell_type": "code",
      "metadata": {
        "id": "mAgdXiCsNQKB",
        "colab_type": "code",
        "colab": {}
      },
      "source": [
        ""
      ],
      "execution_count": 0,
      "outputs": []
    },
    {
      "cell_type": "code",
      "metadata": {
        "id": "Ar40PdtvnuAM",
        "colab_type": "code",
        "colab": {}
      },
      "source": [
        ""
      ],
      "execution_count": 0,
      "outputs": []
    },
    {
      "cell_type": "code",
      "metadata": {
        "id": "H891bGE4nt9l",
        "colab_type": "code",
        "colab": {}
      },
      "source": [
        ""
      ],
      "execution_count": 0,
      "outputs": []
    },
    {
      "cell_type": "code",
      "metadata": {
        "id": "QWujVVwDnt6V",
        "colab_type": "code",
        "colab": {}
      },
      "source": [
        ""
      ],
      "execution_count": 0,
      "outputs": []
    },
    {
      "cell_type": "code",
      "metadata": {
        "id": "fle6h5Z4nt39",
        "colab_type": "code",
        "colab": {}
      },
      "source": [
        ""
      ],
      "execution_count": 0,
      "outputs": []
    },
    {
      "cell_type": "code",
      "metadata": {
        "id": "O122wV4knt1c",
        "colab_type": "code",
        "colab": {}
      },
      "source": [
        ""
      ],
      "execution_count": 0,
      "outputs": []
    },
    {
      "cell_type": "code",
      "metadata": {
        "id": "T9wqXu6PntzF",
        "colab_type": "code",
        "colab": {}
      },
      "source": [
        ""
      ],
      "execution_count": 0,
      "outputs": []
    },
    {
      "cell_type": "code",
      "metadata": {
        "id": "rnLkR9jyntvp",
        "colab_type": "code",
        "colab": {}
      },
      "source": [
        ""
      ],
      "execution_count": 0,
      "outputs": []
    },
    {
      "cell_type": "code",
      "metadata": {
        "id": "f5UHADJanttV",
        "colab_type": "code",
        "colab": {}
      },
      "source": [
        ""
      ],
      "execution_count": 0,
      "outputs": []
    },
    {
      "cell_type": "code",
      "metadata": {
        "id": "BZslJymVntqF",
        "colab_type": "code",
        "colab": {}
      },
      "source": [
        ""
      ],
      "execution_count": 0,
      "outputs": []
    },
    {
      "cell_type": "code",
      "metadata": {
        "id": "CAnt0d0wNQEB",
        "colab_type": "code",
        "colab": {}
      },
      "source": [
        ""
      ],
      "execution_count": 0,
      "outputs": []
    },
    {
      "cell_type": "code",
      "metadata": {
        "id": "VIzKGX-EH7mU",
        "colab_type": "code",
        "colab": {}
      },
      "source": [
        ""
      ],
      "execution_count": 0,
      "outputs": []
    },
    {
      "cell_type": "code",
      "metadata": {
        "id": "829KI0Ok_xTS",
        "colab_type": "code",
        "outputId": "854612be-3ea3-4c3c-fec0-4c1eb728c9e2",
        "colab": {
          "base_uri": "https://localhost:8080/",
          "height": 104
        }
      },
      "source": [
        "import os \n",
        "import pickle\n",
        "\n",
        "import numpy as np\n",
        "from sklearn.datasets import load_iris\n",
        "from sklearn.externals import joblib\n",
        "\n",
        "model = joblib.load('./Stapleton.joblib')"
      ],
      "execution_count": 0,
      "outputs": [
        {
          "output_type": "stream",
          "text": [
            "/usr/local/lib/python3.6/dist-packages/sklearn/externals/joblib/__init__.py:15: DeprecationWarning: sklearn.externals.joblib is deprecated in 0.21 and will be removed in 0.23. Please import this functionality directly from joblib, which can be installed with: pip install joblib. If this warning is raised when loading pickled models, you may need to re-serialize those models with scikit-learn 0.21+.\n",
            "  warnings.warn(msg, category=DeprecationWarning)\n",
            "/usr/local/lib/python3.6/dist-packages/sklearn/base.py:306: UserWarning: Trying to unpickle estimator LinearRegression from version 0.20.1 when using version 0.21.3. This might lead to breaking code or invalid results. Use at your own risk.\n",
            "  UserWarning)\n"
          ],
          "name": "stderr"
        }
      ]
    },
    {
      "cell_type": "code",
      "metadata": {
        "id": "U7bPQ6O3AIbv",
        "colab_type": "code",
        "outputId": "85c8276c-f163-4545-9e49-76abd304eb77",
        "colab": {
          "base_uri": "https://localhost:8080/",
          "height": 34
        }
      },
      "source": [
        "model"
      ],
      "execution_count": 0,
      "outputs": [
        {
          "output_type": "execute_result",
          "data": {
            "text/plain": [
              "LinearRegression(copy_X=True, fit_intercept=True, n_jobs=None, normalize=False)"
            ]
          },
          "metadata": {
            "tags": []
          },
          "execution_count": 57
        }
      ]
    },
    {
      "cell_type": "code",
      "metadata": {
        "id": "VQRdStHkFYRD",
        "colab_type": "code",
        "colab": {}
      },
      "source": [
        ""
      ],
      "execution_count": 0,
      "outputs": []
    },
    {
      "cell_type": "code",
      "metadata": {
        "id": "Fk7q8BLZjt92",
        "colab_type": "code",
        "outputId": "6f76dd33-429d-4179-ca8b-c64cb5cc0bbb",
        "colab": {
          "base_uri": "https://localhost:8080/",
          "height": 34
        }
      },
      "source": [
        "%%writefile predictor.py\n",
        "import os\n",
        "import pickle\n",
        "\n",
        "import numpy as np\n",
        "from sklearn.datasets import load_iris\n",
        "from sklearn.externals import joblib\n",
        "\n",
        "class MyPredictor(object):\n",
        "  def __init__(self, model, preprocessor=None):\n",
        "    self._model = model\n",
        "#     self._preprocessor = preprocessor\n",
        "    self._class_names = load_iris().target_names ## NATE REVIEW\n",
        "#\n",
        "  def predict(self, instances, **kwargs):\n",
        "    inputs = np.asarray(instances) ## NATE REVIEW\n",
        "    if kwargs.get('probabilities'):\n",
        "      probabilities = self._model.predict_proba(inputs)\n",
        "      return probabilities.tolist()\n",
        "    else:\n",
        "      outputs = self._model.predict(inputs)\n",
        "      return [self._class_names[class_num] for class_num in outputs]\n",
        "\n",
        "  @classmethod\n",
        "  def from_path(cls, Models):\n",
        "    neighborhood = 'Stapleton'\n",
        "    model_path = os.path.join(Models, neighborhood +'.joblib') ## NATE REVIEW\n",
        "    model = joblib.load(model_path)\n",
        "\n",
        "#     preprocessor_path = os.path.join(Models, 'preprocessor.pkl') ## NATE REVIEW\n",
        "#     with open(preprocessor_path, 'rb') as f:\n",
        "#       preprocessor = pickle.load(f)\n",
        "\n",
        "    return cls(model, None)"
      ],
      "execution_count": 0,
      "outputs": [
        {
          "output_type": "stream",
          "text": [
            "Overwriting predictor.py\n"
          ],
          "name": "stdout"
        }
      ]
    },
    {
      "cell_type": "code",
      "metadata": {
        "id": "U1ItMRKyj6s4",
        "colab_type": "code",
        "outputId": "82a7518e-78b8-4f06-fa7e-7f1cbef15b0f",
        "colab": {
          "base_uri": "https://localhost:8080/",
          "height": 34
        }
      },
      "source": [
        "%%writefile setup.py\n",
        "from setuptools import setup\n",
        "\n",
        "setup(\n",
        "    name='my_custom_code',\n",
        "    version='0.1',\n",
        "    scripts=['predictor.py'])#, 'preprocess.py'])"
      ],
      "execution_count": 0,
      "outputs": [
        {
          "output_type": "stream",
          "text": [
            "Overwriting setup.py\n"
          ],
          "name": "stdout"
        }
      ]
    },
    {
      "cell_type": "code",
      "metadata": {
        "id": "_-2Kkeocj7C2",
        "colab_type": "code",
        "outputId": "d7114151-5135-42d7-8aaa-ef4fbbd547cf",
        "colab": {
          "base_uri": "https://localhost:8080/",
          "height": 504
        }
      },
      "source": [
        "! python setup.py sdist --formats=gztar"
      ],
      "execution_count": 0,
      "outputs": [
        {
          "output_type": "stream",
          "text": [
            "running sdist\n",
            "running egg_info\n",
            "creating my_custom_code.egg-info\n",
            "writing my_custom_code.egg-info/PKG-INFO\n",
            "writing dependency_links to my_custom_code.egg-info/dependency_links.txt\n",
            "writing top-level names to my_custom_code.egg-info/top_level.txt\n",
            "writing manifest file 'my_custom_code.egg-info/SOURCES.txt'\n",
            "reading manifest file 'my_custom_code.egg-info/SOURCES.txt'\n",
            "writing manifest file 'my_custom_code.egg-info/SOURCES.txt'\n",
            "warning: sdist: standard file not found: should have one of README, README.rst, README.txt, README.md\n",
            "\n",
            "running check\n",
            "warning: check: missing required meta-data: url\n",
            "\n",
            "warning: check: missing meta-data: either (author and author_email) or (maintainer and maintainer_email) must be supplied\n",
            "\n",
            "creating my_custom_code-0.1\n",
            "creating my_custom_code-0.1/my_custom_code.egg-info\n",
            "copying files to my_custom_code-0.1...\n",
            "copying predictor.py -> my_custom_code-0.1\n",
            "copying setup.py -> my_custom_code-0.1\n",
            "copying my_custom_code.egg-info/PKG-INFO -> my_custom_code-0.1/my_custom_code.egg-info\n",
            "copying my_custom_code.egg-info/SOURCES.txt -> my_custom_code-0.1/my_custom_code.egg-info\n",
            "copying my_custom_code.egg-info/dependency_links.txt -> my_custom_code-0.1/my_custom_code.egg-info\n",
            "copying my_custom_code.egg-info/top_level.txt -> my_custom_code-0.1/my_custom_code.egg-info\n",
            "Writing my_custom_code-0.1/setup.cfg\n",
            "creating dist\n",
            "Creating tar archive\n",
            "removing 'my_custom_code-0.1' (and everything under it)\n"
          ],
          "name": "stdout"
        }
      ]
    },
    {
      "cell_type": "code",
      "metadata": {
        "id": "SFVxIPrfxrEE",
        "colab_type": "code",
        "colab": {}
      },
      "source": [
        "BUCKET_NAME = 'denver-neighborhood-model'\n",
        "REGION = 'us-central1'"
      ],
      "execution_count": 0,
      "outputs": []
    },
    {
      "cell_type": "code",
      "metadata": {
        "id": "ZJskcKV1kN5T",
        "colab_type": "code",
        "outputId": "b96e75e8-2f3a-48dc-ed63-9285ec14fe52",
        "colab": {
          "base_uri": "https://localhost:8080/",
          "height": 67
        }
      },
      "source": [
        "\n",
        "! gsutil cp ./dist/my_custom_code-0.1.tar.gz gs://$BUCKET_NAME/Models/my_custom_code-0.1.tar.gz ## NATE REVIEW\n",
        "  \n",
        "# ! gsutil cp model.joblib preprocessor.pkl gs://$BUCKET_NAME/Models ## NATE REVIEW"
      ],
      "execution_count": 0,
      "outputs": [
        {
          "output_type": "stream",
          "text": [
            "Copying file://./dist/my_custom_code-0.1.tar.gz [Content-Type=application/x-tar]...\n",
            "/ [1 files][  1.1 KiB/  1.1 KiB]                                                \n",
            "Operation completed over 1 objects/1.1 KiB.                                      \n"
          ],
          "name": "stdout"
        }
      ]
    },
    {
      "cell_type": "code",
      "metadata": {
        "id": "uzoiQZrikOBq",
        "colab_type": "code",
        "colab": {}
      },
      "source": [
        "MODEL_NAME = 'SalesPredictor'\n",
        "VERSION_NAME = 'v1'\n"
      ],
      "execution_count": 0,
      "outputs": []
    },
    {
      "cell_type": "code",
      "metadata": {
        "id": "fR3ew1PynUDR",
        "colab_type": "code",
        "outputId": "08a2313f-d39c-4552-eb68-81d1b595538b",
        "colab": {
          "base_uri": "https://localhost:8080/",
          "height": 255
        }
      },
      "source": [
        "! gcloud auth login"
      ],
      "execution_count": 0,
      "outputs": [
        {
          "output_type": "stream",
          "text": [
            "Go to the following link in your browser:\n",
            "\n",
            "    https://accounts.google.com/o/oauth2/auth?redirect_uri=urn%3Aietf%3Awg%3Aoauth%3A2.0%3Aoob&prompt=select_account&response_type=code&client_id=32555940559.apps.googleusercontent.com&scope=https%3A%2F%2Fwww.googleapis.com%2Fauth%2Fuserinfo.email+https%3A%2F%2Fwww.googleapis.com%2Fauth%2Fcloud-platform+https%3A%2F%2Fwww.googleapis.com%2Fauth%2Fappengine.admin+https%3A%2F%2Fwww.googleapis.com%2Fauth%2Fcompute+https%3A%2F%2Fwww.googleapis.com%2Fauth%2Faccounts.reauth&access_type=offline\n",
            "\n",
            "\n",
            "Enter verification code: 4/nQGyrmGkcfI6ZZHZ7icVEBgBTuRvkFE-DoAcUszhOL-hQxkI3fBqB98\n",
            "\u001b[1;33mWARNING:\u001b[0m `gcloud auth login` no longer writes application default credentials.\n",
            "If you need to use ADC, see:\n",
            "  gcloud auth application-default --help\n",
            "\n",
            "You are now logged in as [jrmiller24@gmail.com].\n",
            "Your current project is [denver-housing-project].  You can change this setting by running:\n",
            "  $ gcloud config set project PROJECT_ID\n"
          ],
          "name": "stdout"
        }
      ]
    },
    {
      "cell_type": "code",
      "metadata": {
        "id": "S_78YZdLoBSw",
        "colab_type": "code",
        "outputId": "19e63e28-33d4-4722-d96b-978df42059b7",
        "colab": {
          "base_uri": "https://localhost:8080/",
          "height": 34
        }
      },
      "source": [
        "! gcloud config set project denver-housing-project"
      ],
      "execution_count": 0,
      "outputs": [
        {
          "output_type": "stream",
          "text": [
            "Updated property [core/project].\n"
          ],
          "name": "stdout"
        }
      ]
    },
    {
      "cell_type": "code",
      "metadata": {
        "id": "FPEVAyGbqpcT",
        "colab_type": "code",
        "outputId": "114f119e-db97-447f-9e07-23bec603f146",
        "colab": {
          "base_uri": "https://localhost:8080/",
          "height": 34
        }
      },
      "source": [
        "print(MODEL_NAME)"
      ],
      "execution_count": 0,
      "outputs": [
        {
          "output_type": "stream",
          "text": [
            "SalesPredictor\n"
          ],
          "name": "stdout"
        }
      ]
    },
    {
      "cell_type": "markdown",
      "metadata": {
        "id": "1kvfI4VWxLO-",
        "colab_type": "text"
      },
      "source": [
        "Gotta remind meyself, what *is* the model name"
      ]
    },
    {
      "cell_type": "code",
      "metadata": {
        "id": "NPjMoU3V4F9j",
        "colab_type": "code",
        "outputId": "8818d75d-0801-4bb4-9f85-79a9bf7efe33",
        "colab": {
          "base_uri": "https://localhost:8080/",
          "height": 151
        }
      },
      "source": [
        "! gcloud ai-platform versions delete v1 --model $MODEL_NAME\n",
        "! gcloud ai-platform models delete $MODEL_NAME"
      ],
      "execution_count": 0,
      "outputs": [
        {
          "output_type": "stream",
          "text": [
            "This will delete version [v1]...\n",
            "\n",
            "Do you want to continue (Y/n)?  Y\n",
            "\n",
            "This will delete model [SalesPredictor]...\n",
            "\n",
            "Do you want to continue (Y/n)?  Y\n",
            "\n"
          ],
          "name": "stdout"
        }
      ]
    },
    {
      "cell_type": "code",
      "metadata": {
        "id": "tY3Ml8YrkZjR",
        "colab_type": "code",
        "outputId": "c962b335-8943-45ac-fbd0-b2023b2f5e5c",
        "colab": {
          "base_uri": "https://localhost:8080/",
          "height": 34
        }
      },
      "source": [
        "! gcloud ai-platform models create $MODEL_NAME \\\n",
        "  --regions us-central1"
      ],
      "execution_count": 0,
      "outputs": [
        {
          "output_type": "stream",
          "text": [
            "Created ml engine model [projects/denver-housing-project/models/SalesPredictor].\n"
          ],
          "name": "stdout"
        }
      ]
    },
    {
      "cell_type": "code",
      "metadata": {
        "id": "vq14ag3zkZm3",
        "colab_type": "code",
        "outputId": "4883a6a6-55f6-43f8-ea1a-60b8ceffdb1e",
        "colab": {
          "base_uri": "https://localhost:8080/",
          "height": 154
        }
      },
      "source": [
        "# --quiet automatically installs the beta component if it isn't already installed \n",
        "! gcloud --quiet beta ai-platform versions create $VERSION_NAME \\\n",
        "  --model $MODEL_NAME \\\n",
        "  --runtime-version 1.13 \\\n",
        "  --python-version 3.5 \\\n",
        "  --origin gs://$BUCKET_NAME/Models \\\n",
        "  --package-uris gs://$BUCKET_NAME/Models/my_custom_code-0.1.tar.gz \\\n",
        "  --prediction-class predictor.MyPredictor"
      ],
      "execution_count": 0,
      "outputs": [
        {
          "output_type": "stream",
          "text": [
            "\u001b[1;31mERROR:\u001b[0m (gcloud.beta.ai-platform.versions.create) FAILED_PRECONDITION: Field: package_uris Error: The provided GCS paths [gs://du-data-viz-bucket/Models/my_custom_code-0.1.tar.gz] cannot be read. Please make sure that the objects exist and you have read access to it.\n",
            "- '@type': type.googleapis.com/google.rpc.BadRequest\n",
            "  fieldViolations:\n",
            "  - description: The provided GCS paths [gs://du-data-viz-bucket/Models/my_custom_code-0.1.tar.gz]\n",
            "      cannot be read. Please make sure that the objects exist and you have read access\n",
            "      to it.\n",
            "    field: package_uris\n"
          ],
          "name": "stdout"
        }
      ]
    },
    {
      "cell_type": "code",
      "metadata": {
        "id": "W_6ndHH7kZqC",
        "colab_type": "code",
        "colab": {}
      },
      "source": [
        "! pip install --upgrade google-api-python-client"
      ],
      "execution_count": 0,
      "outputs": []
    },
    {
      "cell_type": "markdown",
      "metadata": {
        "id": "G6tiw9VRnkf1",
        "colab_type": "text"
      },
      "source": [
        ""
      ]
    },
    {
      "cell_type": "code",
      "metadata": {
        "id": "av7V4QPSkZtQ",
        "colab_type": "code",
        "colab": {}
      },
      "source": [
        "import googleapiclient.discovery\n",
        "\n",
        "instances = [\n",
        "    square_feet, bedrooms, age_of_dwelling, full_bathrooms, land_size_sq_ft, condo, row_house, single_family\n",
        "]\n",
        "\n",
        "service = googleapiclient.discovery.build('ml', 'v1')\n",
        "name = 'projects/{}/models/{}/versions/{}'.format(PROJECT_ID, MODEL_NAME, VERSION_NAME)\n",
        "\n",
        "response = service.projects().predict(\n",
        "    name=name,\n",
        "    body={'instances': instances}\n",
        ").execute()\n",
        "\n",
        "if 'error' in response:\n",
        "    raise RuntimeError(response['error'])\n",
        "else:\n",
        "  print(response['predictions'])"
      ],
      "execution_count": 0,
      "outputs": []
    },
    {
      "cell_type": "code",
      "metadata": {
        "id": "e1RgsAr8kZwa",
        "colab_type": "code",
        "colab": {}
      },
      "source": [
        "response = service.projects().predict(\n",
        "    name=name,\n",
        "    body={'instances': instances, 'probabilities': True}\n",
        ").execute()\n",
        "\n",
        "if 'error' in response:\n",
        "    raise RuntimeError(response['error'])\n",
        "else:\n",
        "  print(response['predictions'])"
      ],
      "execution_count": 0,
      "outputs": []
    },
    {
      "cell_type": "code",
      "metadata": {
        "id": "y_oRa9uXkZzV",
        "colab_type": "code",
        "colab": {}
      },
      "source": [
        "# Delete version resource\n",
        "! gcloud ai-platform versions delete $VERSION_NAME --quiet --model $MODEL_NAME \n",
        "\n",
        "# Delete model resource\n",
        "! gcloud ai-platform models delete $MODEL_NAME --quiet\n",
        "\n",
        "# Delete Cloud Storage objects that were created\n",
        "! gsutil -m rm -r gs://$BUCKET_NAME/custom_prediction_routine_tutorial"
      ],
      "execution_count": 0,
      "outputs": []
    }
  ]
}